{
 "cells": [
  {
   "cell_type": "markdown",
   "id": "a8981e26",
   "metadata": {},
   "source": [
    "# Importing Libraries"
   ]
  },
  {
   "cell_type": "code",
   "execution_count": 1,
   "id": "b9a4a478",
   "metadata": {},
   "outputs": [],
   "source": [
    "from bs4 import BeautifulSoup as bs\n",
    "import pandas as pd\n",
    "import numpy as np\n",
    "import requests \n",
    "import lxml\n",
    "import os"
   ]
  },
  {
   "cell_type": "markdown",
   "id": "e09b11cb",
   "metadata": {},
   "source": [
    "# Defining URLs for Pages And Downloading Pages Using Libraries"
   ]
  },
  {
   "cell_type": "code",
   "execution_count": 2,
   "id": "cc2daec4",
   "metadata": {},
   "outputs": [],
   "source": [
    "url1 = 'https://stackoverflow.com/tags'\n",
    "\n",
    "url2 = 'https://stackoverflow.com'\n",
    "\n",
    "url = 'https://stackoverflow.com/questions/tagged/javascript'"
   ]
  },
  {
   "cell_type": "code",
   "execution_count": 3,
   "id": "758a4c5d",
   "metadata": {},
   "outputs": [
    {
     "data": {
      "text/plain": [
       "<Response [200]>"
      ]
     },
     "execution_count": 3,
     "metadata": {},
     "output_type": "execute_result"
    }
   ],
   "source": [
    "response = requests.get(url1)\n",
    "\n",
    "response"
   ]
  },
  {
   "cell_type": "code",
   "execution_count": 4,
   "id": "26574941",
   "metadata": {},
   "outputs": [],
   "source": [
    "tag_page = response.text"
   ]
  },
  {
   "cell_type": "markdown",
   "id": "b518e5d7",
   "metadata": {},
   "source": [
    "# Using BeautifulSoup For Parsing the page And defining Code For extracting Data"
   ]
  },
  {
   "cell_type": "code",
   "execution_count": 5,
   "id": "de1c1ebe",
   "metadata": {},
   "outputs": [],
   "source": [
    "soup =bs(tag_page, 'html.parser')"
   ]
  },
  {
   "cell_type": "code",
   "execution_count": 6,
   "id": "e32eba74",
   "metadata": {},
   "outputs": [],
   "source": [
    "def get_toipc_titles(soup):\n",
    "    topic_tags ='post-tag'\n",
    "    topic = soup.find_all('a',{'class' : topic_tags})\n",
    "    topic_titles = []\n",
    "    for tag in topic:\n",
    "        topic_titles.append(tag.text)\n",
    "    return topic_titles\n",
    "\n",
    "def get_describtion_tags(soup):\n",
    "    describtion_tags ='flex--item fc-medium mb12 v-truncate4'\n",
    "    describtion = soup.find_all('div',{'class' : describtion_tags})\n",
    "    desc_text = [d.get_text().strip() for d in describtion]\n",
    "    return desc_text\n",
    "\n",
    "def get_topic_link(soup):\n",
    "    link_tag = 'post-tag'\n",
    "    link = soup.find_all('a',{'class' : link_tag})\n",
    "    topic_link = []\n",
    "    for tag in link:\n",
    "        topic_link.append(url2 + tag['href'])\n",
    "    return topic_link\n",
    "\n",
    "def scrape_tags():\n",
    "    tags_url = 'https://stackoverflow.com/tags'\n",
    "    response = requests.get(tags_url)\n",
    "    if response.status_code != 200:\n",
    "        raise Exception('Cannot load page {}'.format(tags_url))        \n",
    "    topics_df= {\n",
    "        'Tag Topic' : get_toipc_titles(soup) , \n",
    "        'Describtion': get_describtion_tags(soup),\n",
    "        'Topic link' : get_topic_link(soup)\n",
    "    }\n",
    "    return pd.DataFrame(topics_df)   "
   ]
  },
  {
   "cell_type": "markdown",
   "id": "0be6004b",
   "metadata": {},
   "source": [
    "# Saving This Data Into CSV File"
   ]
  },
  {
   "cell_type": "code",
   "execution_count": 7,
   "id": "8fc9815b",
   "metadata": {},
   "outputs": [],
   "source": [
    "scrape_tags().to_csv('Tags Page', index=None )"
   ]
  },
  {
   "cell_type": "markdown",
   "id": "98b63e94",
   "metadata": {},
   "source": [
    "# Code For Extracting Data From Tags Page"
   ]
  },
  {
   "cell_type": "code",
   "execution_count": 8,
   "id": "6e0729ed",
   "metadata": {},
   "outputs": [
    {
     "data": {
      "text/plain": [
       "'https://stackoverflow.com/questions/tagged/java'"
      ]
     },
     "execution_count": 8,
     "metadata": {},
     "output_type": "execute_result"
    }
   ],
   "source": [
    "link_tag = 'post-tag'\n",
    "link = soup.find_all('a',{'class' : link_tag})\n",
    "topic_link = []\n",
    "for tag in link:\n",
    "    topic_link.append(url2 + tag['href'])\n",
    "    \n",
    "topic_link[2]"
   ]
  },
  {
   "cell_type": "code",
   "execution_count": 9,
   "id": "e70e0a15",
   "metadata": {},
   "outputs": [],
   "source": [
    "tagged_url = 'https://stackoverflow.com/questions/tagged/java'"
   ]
  },
  {
   "cell_type": "code",
   "execution_count": 10,
   "id": "e7f03e59",
   "metadata": {},
   "outputs": [],
   "source": [
    "def get_tagged_title(soup2):\n",
    "    titles_tag = 's-post-summary--content-title'\n",
    "    titles = soup2.find_all('h3', {'class' : titles_tag })\n",
    "    title = [t.get_text().replace(\"\\n\",\"\") for t in titles]\n",
    "    return title\n",
    "    \n",
    "\n",
    "def get_content(soup2):\n",
    "    post_content = 's-post-summary--content-excerpt'\n",
    "    content = soup2.find_all('div', {'class' : post_content})\n",
    "    content_text =[c.get_text().strip().replace(\"-\", \"\").replace(\"\\r\", \"\").replace(\"\\n\", \" \") for c in content]\n",
    "    return content_text\n",
    "\n",
    "def get_tagged_votes(soup2):\n",
    "    votes_tag = 's-post-summary--stats-item s-post-summary--stats-item__emphasized'\n",
    "    votes = soup2.find_all('div', {'class' : votes_tag})\n",
    "    votes_text = [v.get_text().strip() for v in votes]\n",
    "    vote = [v.replace(\"\\n\", \" \").replace(\"-\", \"\") for v in votes_text]\n",
    "    return vote\n",
    "\n",
    "def get_tagged_answered(soup2):\n",
    "    answeres_tag = soup2.find_all('span', {'class' : 's-post-summary--stats-item-number'})\n",
    "    answeres = [a.get_text().replace(\"-\",\"\") for a in answeres_tag]\n",
    "    answere=answeres[1::3]\n",
    "    return answere\n",
    "\n",
    "def get_tagged_view(soup2):\n",
    "    answeres_tag = soup2.find_all('span', {'class' : 's-post-summary--stats-item-number'})\n",
    "    answeres = [a.get_text().replace(\"-\",\"\") for a in answeres_tag]\n",
    "    view = answeres[2::3]\n",
    "    return view\n",
    "\n",
    "def scrape_tagged(tagged_url):\n",
    "    response2 = requests.get(tagged_url)\n",
    "    if response2.status_code != 200:\n",
    "        raise Exception('Cannot load page {}'.format(tagged_url)) \n",
    "    soup2 = bs(response2.text, 'html.parser')\n",
    "    tagged_df= {\n",
    "        'Title' : get_tagged_title(soup2) , \n",
    "        'Post Of Tag': get_content(soup2),\n",
    "        'Votes On Post' : get_tagged_votes(soup2),\n",
    "        'Answeres On Post': get_tagged_answered(soup2),\n",
    "        'Views On Post' : get_tagged_view(soup2)\n",
    "    }\n",
    "    return pd.DataFrame(tagged_df)   "
   ]
  },
  {
   "cell_type": "code",
   "execution_count": 11,
   "id": "e329e4c3",
   "metadata": {},
   "outputs": [],
   "source": [
    "scrape_tagged(tagged_url).to_csv('Java Tagged Page', index=None )"
   ]
  },
  {
   "cell_type": "code",
   "execution_count": 12,
   "id": "22d8eebf",
   "metadata": {},
   "outputs": [],
   "source": [
    "url3 = topic_link[3]"
   ]
  },
  {
   "cell_type": "code",
   "execution_count": 13,
   "id": "fd199fb5",
   "metadata": {},
   "outputs": [],
   "source": [
    "scrape_tagged(topic_link[4]).to_csv('C# Tagged Page', index=None )"
   ]
  },
  {
   "cell_type": "code",
   "execution_count": null,
   "id": "52994601",
   "metadata": {},
   "outputs": [],
   "source": []
  }
 ],
 "metadata": {
  "kernelspec": {
   "display_name": "Python 3 (ipykernel)",
   "language": "python",
   "name": "python3"
  },
  "language_info": {
   "codemirror_mode": {
    "name": "ipython",
    "version": 3
   },
   "file_extension": ".py",
   "mimetype": "text/x-python",
   "name": "python",
   "nbconvert_exporter": "python",
   "pygments_lexer": "ipython3",
   "version": "3.10.2"
  }
 },
 "nbformat": 4,
 "nbformat_minor": 5
}
